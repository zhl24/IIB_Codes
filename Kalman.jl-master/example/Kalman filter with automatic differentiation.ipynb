{
 "cells": [
  {
   "cell_type": "markdown",
   "metadata": {},
   "source": [
    "# Maximum likelihood estimation with Kalman filter and automatic differentiation\n",
    "\n",
    "### This notebook shows how to use `Kalman.jl` together with `ForwardDiff` to estimate the filter coefficients.\n"
   ]
  },
  {
   "cell_type": "code",
   "execution_count": 44,
   "metadata": {},
   "outputs": [],
   "source": [
    "using Pkg\n",
    "!haskey(Pkg.installed(), \"GaussianDistributions\") && Pkg.clone(\"https://github.com/mschauer/GaussianDistributions.jl\")\n",
    "!haskey(Pkg.installed(), \"Kalman\") && Pkg.clone(\"https://github.com/mschauer/Kalman.jl\");"
   ]
  },
  {
   "cell_type": "code",
   "execution_count": 45,
   "metadata": {},
   "outputs": [],
   "source": [
    "using Kalman\n",
    "using StaticArrays\n",
    "using Random, LinearAlgebra\n",
    "using GaussianDistributions\n",
    "using DynamicIterators\n",
    "using Trajectories"
   ]
  },
  {
   "cell_type": "code",
   "execution_count": 46,
   "metadata": {},
   "outputs": [],
   "source": [
    "using ForwardDiff\n",
    "using ForwardDiff: derivative, Dual"
   ]
  },
  {
   "cell_type": "markdown",
   "metadata": {},
   "source": [
    "## Define a parametrized linear statespace model with parameter `θ`"
   ]
  },
  {
   "cell_type": "code",
   "execution_count": 56,
   "metadata": {},
   "outputs": [
    {
     "data": {
      "text/plain": [
       "O (generic function with 1 method)"
      ]
     },
     "execution_count": 56,
     "metadata": {},
     "output_type": "execute_result"
    }
   ],
   "source": [
    "x0 = [1., 0.]\n",
    "P0 = Matrix(1.0I, 2, 2)\n",
    "\n",
    "Φ(θ) = [0.8 θ/2; -0.1 0.8]\n",
    "b = zeros(2)\n",
    "Q = [0.2 0.0; 0.0 1.0]\n",
    "\n",
    "yshadow = [0.0]\n",
    "H = [1.0 0.0]\n",
    "R = Matrix(0.2I, 1, 1)\n",
    "\n",
    "E(θ) = LinearEvolution(Φ(θ), Gaussian(b, Q))\n",
    "Obs = LinearObservationModel(H, R)\n",
    "M(θ) = LinearStateSpaceModel(E(θ), Obs)\n",
    "\n",
    "\n",
    "O(θ) = LinearObservation(E(θ), H, R)\n"
   ]
  },
  {
   "cell_type": "markdown",
   "metadata": {},
   "source": [
    "## Generate test data with `θ0 = 1.0`"
   ]
  },
  {
   "cell_type": "code",
   "execution_count": 57,
   "metadata": {},
   "outputs": [
    {
     "data": {
      "text/plain": [
       "LinearStateSpaceModel{LinearEvolution{Array{Float64,2},Gaussian{Array{Float64,1},Array{Float64,2}}},LinearObservationModel{Array{Float64,2},Array{Float64,2}}}(LinearEvolution{Array{Float64,2},Gaussian{Array{Float64,1},Array{Float64,2}}}([0.8 0.5; -0.1 0.8], Gaussian{Array{Float64,1},Array{Float64,2}}([0.0, 0.0], [0.2 0.0; 0.0 1.0])), LinearObservationModel{Array{Float64,2},Array{Float64,2}}([1.0 0.0], [0.2]))"
      ]
     },
     "execution_count": 57,
     "metadata": {},
     "output_type": "execute_result"
    }
   ],
   "source": [
    "θ0 = 1.0\n",
    "M0 = M(θ0)"
   ]
  },
  {
   "cell_type": "code",
   "execution_count": 58,
   "metadata": {},
   "outputs": [
    {
     "data": {
      "text/plain": [
       "10001-element Array{Pair{Int64,SArray{Tuple{1},Float64,1,1}},1}:\n",
       "     0 => [0.0]      \n",
       "     1 => [0.201635] \n",
       "     2 => [2.04921]  \n",
       "     3 => [1.30766]  \n",
       "     4 => [2.26442]  \n",
       "     5 => [1.61125]  \n",
       "     6 => [1.46419]  \n",
       "     7 => [0.416179] \n",
       "     8 => [0.339188] \n",
       "     9 => [-1.05974] \n",
       "    10 => [-0.981097]\n",
       "    11 => [-1.7979]  \n",
       "    12 => [-2.95037] \n",
       "       ⋮             \n",
       "  9989 => [-1.32969] \n",
       "  9990 => [-2.58169] \n",
       "  9991 => [-3.75926] \n",
       "  9992 => [-3.24176] \n",
       "  9993 => [-1.30553] \n",
       "  9994 => [2.60522]  \n",
       "  9995 => [1.16561]  \n",
       "  9996 => [1.16594]  \n",
       "  9997 => [1.36326]  \n",
       "  9998 => [1.41969]  \n",
       "  9999 => [1.21885]  \n",
       " 10000 => [1.74465]  "
      ]
     },
     "execution_count": 58,
     "metadata": {},
     "output_type": "execute_result"
    }
   ],
   "source": [
    "Random.seed!(11)\n",
    "X = trace(DynamicIterators.Sampled(LinearEvolution(Φ(θ0), Gaussian(b, Q))), 0 => x0, endtime(10000))\n",
    "\n",
    "Y = collect(t=>SVector{1}(y) for (t, (x,y)) in pairs(X))\n"
   ]
  },
  {
   "cell_type": "code",
   "execution_count": 59,
   "metadata": {},
   "outputs": [
    {
     "data": {
      "text/plain": [
       "-14716.974601164988"
      ]
     },
     "execution_count": 59,
     "metadata": {},
     "output_type": "execute_result"
    }
   ],
   "source": [
    "kalmanfilter(O(θ0), 0 => Gaussian(x0, P0), Y)[2]"
   ]
  },
  {
   "cell_type": "markdown",
   "metadata": {},
   "source": [
    "## Define iterator that sums the marginal log likelihood of the data"
   ]
  },
  {
   "cell_type": "code",
   "execution_count": 60,
   "metadata": {},
   "outputs": [
    {
     "data": {
      "text/plain": [
       "filter (generic function with 2 methods)"
      ]
     },
     "execution_count": 60,
     "metadata": {},
     "output_type": "execute_result"
    }
   ],
   "source": [
    "function filter(O, prior, Y) # Kalman filter using iteration, could be easily adapted to an only version\n",
    "    ϕ = iterate(Y) \n",
    "    ϕ === nothing && error(\"no observations\")\n",
    "    y, ystate = ϕ\n",
    "\n",
    "    ϕ = dyniterate(O, Start(Kalman.Filter(prior, 0.0)), y)\n",
    "    ϕ === nothing && error(\"no observations\")\n",
    "    (t, u), state = ϕ\n",
    "\n",
    "    X = trajectory((t => u[1],))\n",
    "    while true\n",
    "        ϕ = iterate(Y, ystate)\n",
    "        ϕ === nothing && break\n",
    "        y, ystate = ϕ\n",
    "\n",
    "        ϕ = dyniterate(O, state, y) # dyniterate is an iteration protocol which allows iterators depends on an input y \n",
    "        ϕ === nothing && break\n",
    "        (t, u), state = ϕ\n",
    "    end\n",
    "    ll = u[3] # likelihood\n",
    "end\n"
   ]
  },
  {
   "cell_type": "code",
   "execution_count": 61,
   "metadata": {
    "scrolled": true
   },
   "outputs": [
    {
     "data": {
      "text/plain": [
       "(-14716.974601164988, -14730.792632014904, -14735.56554895877)"
      ]
     },
     "execution_count": 61,
     "metadata": {},
     "output_type": "execute_result"
    }
   ],
   "source": [
    "target(θ) = filter(O(θ[]), 0 => Gaussian(x0, P0), Y)"
   ]
  },
  {
   "cell_type": "markdown",
   "metadata": {},
   "source": [
    "## Fit `θ` using Newton with automatic derivatives"
   ]
  },
  {
   "cell_type": "code",
   "execution_count": 62,
   "metadata": {},
   "outputs": [
    {
     "name": "stdout",
     "output_type": "stream",
     "text": [
      "[0.7]\n",
      "[0.906379]\n",
      "[0.981415]\n",
      "[0.988858]\n",
      "[0.988922]\n",
      "[0.988922]\n",
      "[0.988922]\n",
      "[0.988922]\n",
      "[0.988922]\n",
      "[0.988922]\n",
      "[0.988922]\n",
      "Maximum llikelihood estimate: θ = [0.988922]\n"
     ]
    }
   ],
   "source": [
    "θ = [0.7]\n",
    "println(θ)\n",
    "for it in 1:10\n",
    "    θold = θ\n",
    "    θ = θ .- inv(ForwardDiff.hessian(target, θ))*ForwardDiff.derivative(target, θ[])\n",
    "    θold == θ && break    \n",
    "    println(θ)\n",
    "end\n",
    "println(\"Maximum llikelihood estimate: θ = $θ\")"
   ]
  },
  {
   "cell_type": "code",
   "execution_count": null,
   "metadata": {},
   "outputs": [],
   "source": []
  },
  {
   "cell_type": "code",
   "execution_count": null,
   "metadata": {},
   "outputs": [],
   "source": []
  }
 ],
 "metadata": {
  "kernelspec": {
   "display_name": "Julia 2020 1.1.1",
   "language": "julia",
   "name": "julia-2020-1.1"
  },
  "language_info": {
   "file_extension": ".jl",
   "mimetype": "application/julia",
   "name": "julia",
   "version": "1.1.1"
  }
 },
 "nbformat": 4,
 "nbformat_minor": 2
}
